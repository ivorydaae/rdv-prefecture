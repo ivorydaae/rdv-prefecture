{
 "cells": [
  {
   "cell_type": "code",
   "execution_count": 250,
   "metadata": {},
   "outputs": [],
   "source": [
    "import datetime\n",
    "import os\n",
    "import requests\n",
    "import sys\n",
    "import time\n",
    "import random"
   ]
  },
  {
   "cell_type": "code",
   "execution_count": 251,
   "metadata": {},
   "outputs": [],
   "source": [
    "URL = \"https://pprdv.interieur.gouv.fr/booking/create/989\"\n",
    "URL_1 = \"https://pprdv.interieur.gouv.fr/booking/create/989/1\"\n",
    "\n",
    "planning_num = [990 , 1000, 1001, 1002, 1003, 1005, 1028, 1029]\n",
    "index = list(range(0,8))\n",
    "text_on_page= ['1,2 et 3' , '4', \"6\", '5', '7', '8', '9', '10']\n",
    "\n",
    "# We need to look like a normal browser because otherwise we are blocked\n",
    "headers = {\n",
    "    'User-Agent': 'Mozilla/5.0 (X11; Fedora; Linux x86_64; rv:64.0) ' \\\n",
    "    'Gecko/20100101 Firefox/64.0' \\\n",
    "    'Chrome/69.0.3497.100' \\\n",
    "    'Safari/537.36' \n",
    "}\n",
    "checkPhrase = \"Il n'existe plus de plage horaire libre pour votre \" \n",
    "checkError = \"The server returned an invalid or incomplete response.\"\n",
    "   \n",
    "# \"demande de rendez-vous.\" \\\n",
    "\n",
    "thisDir = os.path.dirname('./')"
   ]
  },
  {
   "cell_type": "code",
   "execution_count": 252,
   "metadata": {},
   "outputs": [],
   "source": [
    "headerlist = [\"Mozilla/5.0 (Windows NT 10.0; Win64; x64) AppleWebKit/537.36 (KHTML, like Gecko) Chrome/62.0.3202.94 Safari/537.36\",\n",
    "     \"Mozilla/5.0 (Windows NT 10.0; WOW64) AppleWebKit/537.36 (KHTML, like Gecko) Chrome/56.0.2924.87 Safari/537.36 OPR/43.0.2442.991\",\n",
    "           \"Mozilla/5.0 (Windows NT 10.0; WOW64) AppleWebKit/537.36 (KHTML, like Gecko) Chrome/55.0.2883.87 Safari/537.36 OPR/42.0.2393.94\",\n",
    "           \"Mozilla/5.0 (Windows NT 10.0; Win64; x64) AppleWebKit/537.36 (KHTML, like Gecko) Chrome/60.0.3112.78 Safari/537.36 OPR/47.0.2631.39\",\n",
    "           \"Mozilla/5.0 (Windows NT 10.0; Win64; x64) AppleWebKit/537.36 (KHTML, like Gecko) Chrome/60.0.3112.113 Safari/537.36\",\n",
    "           \"Mozilla/5.0 (Windows NT 5.1; Win64; x64) AppleWebKit/537.36 (KHTML, like Gecko) Chrome/60.0.3112.90 Safari/537.36\",\n",
    "           \"Mozilla/5.0 (Windows NT 6.1; Win64; x64) AppleWebKit/537.36 (KHTML, like Gecko) Chrome/55.0.2883.87 Safari/537.36\",\n",
    "           \"Mozilla/5.0 (Windows NT 6.1; WOW64; rv:54.0) Gecko/20100101 Firefox/54.0\",\n",
    "           \"Mozilla/5.0 (Windows NT 10.0; WOW64; rv:54.0) Gecko/20100101 Firefox/54.0\",\n",
    "           \"Mozilla/5.0 (Windows NT 6.1; WOW64; rv:56.0) Gecko/20100101 Firefox/56.0\",\n",
    "           \"Mozilla/5.0 (Windows NT 6.1; WOW64; Trident/7.0; rv:11.0) like Gecko\"]"
   ]
  },
  {
   "cell_type": "code",
   "execution_count": 253,
   "metadata": {},
   "outputs": [],
   "source": [
    "def checkPlacesAreAlreadyTaken():\n",
    "    with requests.Session() as s:\n",
    "        #user_agent = random.choice(headerlist)\n",
    "        #headers = {'User-Agent': user_agent}\n",
    "        \n",
    "        r = s.get(URL, headers=headers)\n",
    "        r = s.post(URL, headers=headers,\n",
    "                   data={'condition':'on',\n",
    "                         'nextButton':'Effectuer+une+demande+de+rendez-vous'})\n",
    "        r = s.get(URL_1, headers=headers)\n",
    "        ram = random.choice(index)\n",
    "        r = s.post(URL_1, headers=headers,\n",
    "                      data={'planning': planning_num[ram] ,\n",
    "                            'nextButton':'Etape+suivante'})\n",
    "        \n",
    "        print(\"Remise de titre guichet \"+ text_on_page[ram])\n",
    "       # print(headers) \n",
    "       # print(r.text)\n",
    "    if checkError in r.text :\n",
    "        return \"Error\"\n",
    "    else:\n",
    "        return checkPhrase in r.text"
   ]
  },
  {
   "cell_type": "code",
   "execution_count": 254,
   "metadata": {},
   "outputs": [],
   "source": [
    "def writeResults(placesAreAlreadyTaken):\n",
    "    \"\"\"Log the result to STDOUT and to two different files.\"\"\"\n",
    "    now = datetime.datetime.now()\n",
    "    print('{} All places are already taken: {}'.format(now, placesAreAlreadyTaken))\n",
    "    if placesAreAlreadyTaken:\n",
    "        with open(os.path.join(thisDir, 'placesAreAlreadyTaken.log'), 'a') as f:\n",
    "            f.write('{} Places are taken\\n'.format(now))\n",
    "    elif placesAreAlreadyTaken == \"Error\" :\n",
    "        with open(os.path.join(thisDir, 'placesAreAlreadyTaken.log'), 'a') as f:\n",
    "            f.write('{} Page Error\\n'.format(now))\n",
    "    else:\n",
    "        with open(os.path.join(thisDir, 'placeIsAvailable.log'), 'a') as f:\n",
    "            f.write('{} At least one place is available!\\n'.format(now))"
   ]
  },
  {
   "cell_type": "code",
   "execution_count": 255,
   "metadata": {},
   "outputs": [],
   "source": [
    "def playSound():\n",
    "    \"\"\"Emit three terminal beeps within 1.5 s.\"\"\"\n",
    "    for i in range(3):\n",
    "        sys.stdout.write('\\a')\n",
    "        sys.stdout.flush()\n",
    "        time.sleep(0.5)"
   ]
  },
  {
   "cell_type": "code",
   "execution_count": 256,
   "metadata": {},
   "outputs": [],
   "source": [
    "def main():\n",
    "    print('Starting to monitor the reservation system.')\n",
    "    print('Press CTRL+C to abort...\\n')\n",
    "    while True:\n",
    "        try:\n",
    "            placesAreAlreadyTaken = checkPlacesAreAlreadyTaken()\n",
    "        except requests.exceptions.RequestException as e:\n",
    "            sys.stderr.write('** Error while querying site: {}\\n'.format(e))\n",
    "        else:\n",
    "            if not placesAreAlreadyTaken:\n",
    "                playSound()\n",
    "            writeResults(placesAreAlreadyTaken)\n",
    "        time.sleep(180)  "
   ]
  },
  {
   "cell_type": "code",
   "execution_count": null,
   "metadata": {},
   "outputs": [
    {
     "name": "stdout",
     "output_type": "stream",
     "text": [
      "Starting to monitor the reservation system.\n",
      "Press CTRL+C to abort...\n",
      "\n"
     ]
    },
    {
     "name": "stderr",
     "output_type": "stream",
     "text": [
      "** Error while querying site: ('Connection aborted.', RemoteDisconnected('Remote end closed connection without response'))\n"
     ]
    }
   ],
   "source": [
    "if __name__ == '__main__':\n",
    "    sys.exit(main())"
   ]
  },
  {
   "cell_type": "code",
   "execution_count": null,
   "metadata": {},
   "outputs": [],
   "source": []
  }
 ],
 "metadata": {
  "kernelspec": {
   "display_name": "Python 3",
   "language": "python",
   "name": "python3"
  },
  "language_info": {
   "codemirror_mode": {
    "name": "ipython",
    "version": 3
   },
   "file_extension": ".py",
   "mimetype": "text/x-python",
   "name": "python",
   "nbconvert_exporter": "python",
   "pygments_lexer": "ipython3",
   "version": "3.7.4"
  }
 },
 "nbformat": 4,
 "nbformat_minor": 2
}
